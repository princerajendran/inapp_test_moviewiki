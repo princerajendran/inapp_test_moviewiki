{
 "cells": [
  {
   "cell_type": "code",
   "execution_count": null,
   "id": "05740c3b-8484-4cfa-8e06-eb858083de0c",
   "metadata": {},
   "outputs": [],
   "source": [
    "import os\n",
    "import django\n",
    "import pandas as pd\n",
    "from myapp.models import Person, Title\n",
    "from django.db import transaction\n",
    "from django.core.exceptions import ObjectDoesNotExist"
   ]
  },
  {
   "cell_type": "code",
   "execution_count": null,
   "id": "ad9098de-c698-4196-a828-ad6d62a13b1b",
   "metadata": {},
   "outputs": [],
   "source": [
    "# Set up the Django environment\n",
    "os.environ['DJANGO_SETTINGS_MODULE'] = 'your_project.settings'  # Replace 'your_project' with your project name\n",
    "django.setup()\n",
    "\n",
    "# Now you can import your Django models\n",
    "from myapp.models import Person, Title"
   ]
  },
  {
   "cell_type": "code",
   "execution_count": null,
   "id": "ca82edbc-a904-4429-af64-2117a2c6ab08",
   "metadata": {},
   "outputs": [],
   "source": [
    "# Configuration\n",
    "BATCH_SIZE = 1000  # Adjust based on your system's memory\n",
    "DATA_PATH_PERSON = '/data_handling_scripts/name.basics.tsv'\n",
    "DATA_PATH_TITLE = '/data_handling_scripts/title.basics.tsv'"
   ]
  },
  {
   "cell_type": "code",
   "execution_count": null,
   "id": "f03462f8-71e8-477c-b6f8-242117ddd262",
   "metadata": {},
   "outputs": [],
   "source": [
    "# Load DataFrames\n",
    "person_df = pd.read_csv(DATA_PATH_PERSON, sep='\\t', na_values='\\\\N')\n",
    "title_df = pd.read_csv(DATA_PATH_TITLE, sep='\\t', na_values='\\\\N')"
   ]
  },
  {
   "cell_type": "code",
   "execution_count": null,
   "id": "282a6a29-65d4-45f0-9f6e-1be3e571bbf7",
   "metadata": {},
   "outputs": [],
   "source": [
    "\n",
    "# Function to import Titles\n",
    "def import_titles(df):\n",
    "    title_objects = []\n",
    "    for _, row in df.iterrows():\n",
    "        title_objects.append(Title(\n",
    "            tconst=row['tconst'],\n",
    "            title_type=row['titleType'],\n",
    "            primary_title=row['primaryTitle'],\n",
    "            original_title=row['originalTitle'],\n",
    "            is_adult=bool(int(row['isAdult'])),\n",
    "            start_year=row['startYear'] if row['startYear'] != '\\\\N' else None,\n",
    "            end_year=row['endYear'] if row['endYear'] != '\\\\N' else None,\n",
    "            runtime_minutes=row['runtimeMinutes'] if row['runtimeMinutes'] != '\\\\N' else None,\n",
    "            genres=row['genres']\n",
    "        ))\n",
    "    with transaction.atomic():\n",
    "        Title.objects.bulk_create(title_objects)\n",
    "\n"
   ]
  },
  {
   "cell_type": "code",
   "execution_count": null,
   "id": "895296e8-3673-4706-808b-3757fee230d7",
   "metadata": {},
   "outputs": [],
   "source": [
    "# Function to import Persons\n",
    "def import_persons(df):\n",
    "    person_objects = []\n",
    "    for _, row in df.iterrows():\n",
    "        person_objects.append(Person(\n",
    "            nconst=row['nconst'],\n",
    "            primary_name=row['primaryName'],\n",
    "            birth_year=row['birthYear'] if row['birthYear'] != '\\\\N' else None,\n",
    "            death_year=row['deathYear'] if row['deathYear'] != '\\\\N' else None,\n",
    "            primary_profession=row['primaryProfession']\n",
    "        ))\n",
    "\n",
    "    with transaction.atomic():\n",
    "        Person.objects.bulk_create(person_objects)\n",
    "\n"
   ]
  },
  {
   "cell_type": "code",
   "execution_count": null,
   "id": "7157282f-8c80-407d-9c9c-3ac2f3841372",
   "metadata": {},
   "outputs": [],
   "source": [
    "# Function to update many-to-many relationships\n",
    "def update_relationships(df):\n",
    "    for _, row in df.iterrows():\n",
    "        try:\n",
    "            person = Person.objects.get(nconst=row['nconst'])\n",
    "            if not pd.isna(row['knownForTitles']):\n",
    "                titles = Title.objects.filter(tconst__in=row['knownForTitles'].split(','))\n",
    "                person.known_for_titles.set(titles)\n",
    "                person.save()\n",
    "        except ObjectDoesNotExist:\n",
    "            print(f\"Person with nconst {row['nconst']} does not exist.\")\n",
    "\n"
   ]
  },
  {
   "cell_type": "code",
   "execution_count": null,
   "id": "850af4d6-c35d-4fd9-b036-96b44508e8ff",
   "metadata": {},
   "outputs": [],
   "source": [
    "# Import Titles in batches\n",
    "for start in range(0, len(title_df), BATCH_SIZE):\n",
    "    end = min(start + BATCH_SIZE, len(title_df))\n",
    "    batch = title_df[start:end]\n",
    "    import_titles(batch)\n",
    "\n",
    "print(\"Data import completed.\")\n",
    "\n"
   ]
  },
  {
   "cell_type": "code",
   "execution_count": null,
   "id": "7729d70f-8c24-4411-8455-30b402d7e308",
   "metadata": {},
   "outputs": [],
   "source": [
    "# Import Persons in batches\n",
    "for start in range(0, len(person_df), BATCH_SIZE):\n",
    "    end = min(start + BATCH_SIZE, len(person_df))\n",
    "    batch = person_df[start:end]\n",
    "    import_persons(batch)\n",
    "\n",
    "print(\"Data import completed.\")\n"
   ]
  },
  {
   "cell_type": "code",
   "execution_count": null,
   "id": "c24a6405-0ba0-4294-a0cd-14572c57b51d",
   "metadata": {},
   "outputs": [],
   "source": [
    "\n",
    "# Update relationships in batches\n",
    "for start in range(0, len(person_df), BATCH_SIZE):\n",
    "    end = min(start + BATCH_SIZE, len(person_df))\n",
    "    batch = person_df[start:end]\n",
    "    update_relationships(batch)\n",
    "\n",
    "print(\"Data import completed.\")"
   ]
  }
 ],
 "metadata": {
  "kernelspec": {
   "display_name": "Python 3 (ipykernel)",
   "language": "python",
   "name": "python3"
  },
  "language_info": {
   "codemirror_mode": {
    "name": "ipython",
    "version": 3
   },
   "file_extension": ".py",
   "mimetype": "text/x-python",
   "name": "python",
   "nbconvert_exporter": "python",
   "pygments_lexer": "ipython3",
   "version": "3.12.4"
  }
 },
 "nbformat": 4,
 "nbformat_minor": 5
}
